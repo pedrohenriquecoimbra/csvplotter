{
 "cells": [
  {
   "cell_type": "code",
   "execution_count": 23,
   "metadata": {},
   "outputs": [],
   "source": [
    "import matplotlib.pyplot as plt\n",
    "plt.style.use(['dark_background'])"
   ]
  },
  {
   "cell_type": "code",
   "execution_count": 24,
   "metadata": {},
   "outputs": [],
   "source": [
    "import Plotter.plotter\n",
    "import pandas as pd\n",
    "import importlib\n",
    "importlib.reload(Plotter.plotter)\n",
    "\n",
    "# Example usage:\n",
    "# Sample data\n",
    "data = pd.DataFrame({\n",
    "    'time': [1, 2, 3, 4, 5],\n",
    "    'value': [10, 20, 15, 30, 25],\n",
    "    'category': ['A', 'B', 'A', 'B', 'A']\n",
    "})\n",
    "\n",
    "# Create a Plotter instance and plot using CSV\n",
    "plotter = Plotter.plotter.Plotter(data, style=['dark_background'])\n",
    "plotter.plot_from_csv('sample/plot_config.csv', data, save_folder=\"sample\")"
   ]
  }
 ],
 "metadata": {
  "kernelspec": {
   "display_name": "talltower",
   "language": "python",
   "name": "python3"
  },
  "language_info": {
   "codemirror_mode": {
    "name": "ipython",
    "version": 3
   },
   "file_extension": ".py",
   "mimetype": "text/x-python",
   "name": "python",
   "nbconvert_exporter": "python",
   "pygments_lexer": "ipython3",
   "version": "3.8.12"
  }
 },
 "nbformat": 4,
 "nbformat_minor": 2
}
