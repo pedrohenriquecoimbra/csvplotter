{
 "cells": [
  {
   "cell_type": "code",
   "execution_count": null,
   "metadata": {},
   "outputs": [],
   "source": [
    "import csvplotter.plotter\n",
    "import pandas as pd\n",
    "import importlib\n",
    "importlib.reload(csvplotter.plotter)\n",
    "\n",
    "# Example usage:\n",
    "# Sample data\n",
    "data = pd.DataFrame({\n",
    "    'time': [1, 2, 3, 4, 5],\n",
    "    'value': [10, 20, 15, 30, 25],\n",
    "    'category': ['A', 'B', 'A', 'B', 'A']\n",
    "})\n",
    "\n",
    "# Create a Plotter instance and plot using CSV\n",
    "plotter = csvplotter.plotter.Plotter(\n",
    "    data, style=['seaborn-whitegrid', 'Plotter.light'])\n",
    "plotter.plot_from_csv(config='sample/plot_config.csv',\n",
    "                      save_folder=\"sample\", multi_process=1)"
   ]
  }
 ],
 "metadata": {
  "kernelspec": {
   "display_name": "talltower",
   "language": "python",
   "name": "python3"
  },
  "language_info": {
   "codemirror_mode": {
    "name": "ipython",
    "version": 3
   },
   "file_extension": ".py",
   "mimetype": "text/x-python",
   "name": "python",
   "nbconvert_exporter": "python",
   "pygments_lexer": "ipython3",
   "version": "3.8.12"
  }
 },
 "nbformat": 4,
 "nbformat_minor": 2
}
